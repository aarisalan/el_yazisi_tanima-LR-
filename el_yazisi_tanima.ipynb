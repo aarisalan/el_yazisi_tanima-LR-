{
 "cells": [
  {
   "cell_type": "markdown",
   "id": "4aae9363",
   "metadata": {},
   "source": [
    "# Kütüphanelerin İçeri Aktarılması"
   ]
  },
  {
   "cell_type": "code",
   "execution_count": 4,
   "id": "0e245cd7",
   "metadata": {},
   "outputs": [],
   "source": [
    "import pandas as pd\n",
    "from matplotlib import pyplot as plt\n",
    "from sklearn.preprocessing import StandardScaler\n",
    "from sklearn.decomposition import PCA\n",
    "from sklearn.datasets import fetch_openml #datasetin bulunduğu \n",
    "from sklearn.linear_model import LogisticRegression\n",
    "from sklearn.model_selection import train_test_split"
   ]
  },
  {
   "cell_type": "markdown",
   "id": "92f9bbee",
   "metadata": {},
   "source": [
    "# Veri Setinin İçeri Aktarılması"
   ]
  },
  {
   "cell_type": "code",
   "execution_count": 7,
   "id": "67196c44",
   "metadata": {},
   "outputs": [],
   "source": [
    "mnist = fetch_openml(\"mnist_784\")"
   ]
  },
  {
   "cell_type": "markdown",
   "id": "dfd60d7f",
   "metadata": {},
   "source": [
    "# Veri Setinin İncelenmesi"
   ]
  },
  {
   "cell_type": "code",
   "execution_count": 9,
   "id": "b946abbc",
   "metadata": {
    "scrolled": true
   },
   "outputs": [
    {
     "data": {
      "text/plain": [
       "(70000, 784)"
      ]
     },
     "execution_count": 9,
     "metadata": {},
     "output_type": "execute_result"
    }
   ],
   "source": [
    "mnist.data.shape"
   ]
  },
  {
   "cell_type": "code",
   "execution_count": 13,
   "id": "5e9817bb",
   "metadata": {},
   "outputs": [],
   "source": [
    "def showImage(dframe,index):\n",
    "    some_digit = dframe.to_numpy()[index]\n",
    "    some_digit_image = some_digit.reshape(28,28)\n",
    "    \n",
    "    plt.imshow(some_digit_image,cmap = \"binary\")\n",
    "    plt.axis(\"off\")\n",
    "    plt.show"
   ]
  },
  {
   "cell_type": "code",
   "execution_count": 32,
   "id": "1c85bec7",
   "metadata": {},
   "outputs": [
    {
     "data": {
      "image/png": "[encoded data removed]",
      "text/plain": [
       "<Figure size 640x480 with 1 Axes>"
      ]
     },
     "metadata": {},
     "output_type": "display_data"
    }
   ],
   "source": [
    "showImage(mnist.data, 50)"
   ]
  },
  {
   "cell_type": "markdown",
   "id": "77c25f7c",
   "metadata": {},
   "source": [
    "# Train - Test Verisinin Ayrılması"
   ]
  },
  {
   "cell_type": "code",
   "execution_count": 25,
   "id": "b8b41679",
   "metadata": {},
   "outputs": [],
   "source": [
    "train_img, test_img, train_lbl, test_lbl = train_test_split(mnist.data, mnist.target, test_size = 1/7.0, random_state=0)"
   ]
  },
  {
   "cell_type": "code",
   "execution_count": 26,
   "id": "d5d86313",
   "metadata": {},
   "outputs": [
    {
     "data": {
      "text/plain": [
       "pandas.core.frame.DataFrame"
      ]
     },
     "execution_count": 26,
     "metadata": {},
     "output_type": "execute_result"
    }
   ],
   "source": [
    "type(train_img)"
   ]
  },
  {
   "cell_type": "code",
   "execution_count": 27,
   "id": "533f5109",
   "metadata": {},
   "outputs": [],
   "source": [
    "test_img_copy = test_img.copy()"
   ]
  },
  {
   "cell_type": "code",
   "execution_count": 31,
   "id": "b4983c08",
   "metadata": {},
   "outputs": [
    {
     "data": {
      "image/png": "[encoded data removed]",
      "text/plain": [
       "<Figure size 640x480 with 1 Axes>"
      ]
     },
     "metadata": {},
     "output_type": "display_data"
    }
   ],
   "source": [
    "showImage(test_img_copy, 50)"
   ]
  },
  {
   "cell_type": "markdown",
   "id": "30356006",
   "metadata": {},
   "source": [
    "# Veri Scaling İşlemi"
   ]
  },
  {
   "cell_type": "code",
   "execution_count": 33,
   "id": "21ddeab2",
   "metadata": {},
   "outputs": [],
   "source": [
    "scaler = StandardScaler()\n",
    "\n",
    "scaler.fit(train_img)\n",
    "\n",
    "train_img = scaler.transform(train_img)\n",
    "test_img = scaler.transform(test_img)"
   ]
  },
  {
   "cell_type": "markdown",
   "id": "8d027db9",
   "metadata": {},
   "source": [
    "# Temel Bileşenler Analizi"
   ]
  },
  {
   "cell_type": "code",
   "execution_count": 34,
   "id": "bc4781df",
   "metadata": {},
   "outputs": [],
   "source": [
    "pca = PCA(.95)"
   ]
  },
  {
   "cell_type": "code",
   "execution_count": 35,
   "id": "590ea624",
   "metadata": {},
   "outputs": [
    {
     "data": {
      "text/plain": [
       "PCA(n_components=0.95)"
      ]
     },
     "execution_count": 35,
     "metadata": {},
     "output_type": "execute_result"
    }
   ],
   "source": [
    "pca.fit(train_img)"
   ]
  },
  {
   "cell_type": "code",
   "execution_count": 36,
   "id": "da5998e4",
   "metadata": {},
   "outputs": [
    {
     "name": "stdout",
     "output_type": "stream",
     "text": [
      "327\n"
     ]
    }
   ],
   "source": [
    "print(pca.n_components_)"
   ]
  },
  {
   "cell_type": "code",
   "execution_count": 37,
   "id": "2d2592bb",
   "metadata": {},
   "outputs": [],
   "source": [
    "train_img = pca.transform(train_img)\n",
    "test_img = pca.transform(test_img)"
   ]
  },
  {
   "cell_type": "markdown",
   "id": "cfbc047c",
   "metadata": {},
   "source": [
    "# Veri Setine Logistic Regression Uygulanması"
   ]
  },
  {
   "cell_type": "code",
   "execution_count": 38,
   "id": "b2260288",
   "metadata": {},
   "outputs": [],
   "source": [
    "logisticRegr = LogisticRegression(solver = \"lbfgs\", max_iter = 10000)"
   ]
  },
  {
   "cell_type": "code",
   "execution_count": 39,
   "id": "0279e23e",
   "metadata": {},
   "outputs": [
    {
     "data": {
      "text/plain": [
       "LogisticRegression(max_iter=10000)"
      ]
     },
     "execution_count": 39,
     "metadata": {},
     "output_type": "execute_result"
    }
   ],
   "source": [
    "logisticRegr.fit(train_img, train_lbl)"
   ]
  },
  {
   "cell_type": "markdown",
   "id": "5ddfd558",
   "metadata": {},
   "source": [
    "# Sonuçların Gözlemlenmesi"
   ]
  },
  {
   "cell_type": "code",
   "execution_count": 55,
   "id": "29de46de",
   "metadata": {},
   "outputs": [
    {
     "data": {
      "image/png": "[encoded data removed]",
      "text/plain": [
       "<Figure size 640x480 with 1 Axes>"
      ]
     },
     "metadata": {},
     "output_type": "display_data"
    }
   ],
   "source": [
    "#tahmin edilen resim\n",
    "showImage(test_img_copy, 22)"
   ]
  },
  {
   "cell_type": "code",
   "execution_count": 56,
   "id": "385c97a3",
   "metadata": {},
   "outputs": [
    {
     "data": {
      "text/plain": [
       "array(['5'], dtype=object)"
      ]
     },
     "execution_count": 56,
     "metadata": {},
     "output_type": "execute_result"
    }
   ],
   "source": [
    "#tahmin sonucu\n",
    "logisticRegr.predict(test_img[22].reshape(1,-1))"
   ]
  },
  {
   "cell_type": "code",
   "execution_count": 59,
   "id": "9376cd39",
   "metadata": {},
   "outputs": [
    {
     "data": {
      "image/png": "[encoded data removed]",
      "text/plain": [
       "<Figure size 640x480 with 1 Axes>"
      ]
     },
     "metadata": {},
     "output_type": "display_data"
    }
   ],
   "source": [
    "#tahmin edilen resim\n",
    "showImage(test_img_copy,465)"
   ]
  },
  {
   "cell_type": "code",
   "execution_count": 57,
   "id": "bf225e4b",
   "metadata": {},
   "outputs": [
    {
     "data": {
      "text/plain": [
       "array(['6'], dtype=object)"
      ]
     },
     "execution_count": 57,
     "metadata": {},
     "output_type": "execute_result"
    }
   ],
   "source": [
    "#tahmin sonucu\n",
    "logisticRegr.predict(test_img[465].reshape(1,-1))"
   ]
  },
  {
   "cell_type": "code",
   "execution_count": 60,
   "id": "64c88fca",
   "metadata": {},
   "outputs": [
    {
     "data": {
      "image/png": "[encoded data removed]",
      "text/plain": [
       "<Figure size 640x480 with 1 Axes>"
      ]
     },
     "metadata": {},
     "output_type": "display_data"
    }
   ],
   "source": [
    "#tahmin edilen resim\n",
    "showImage(test_img_copy,650)"
   ]
  },
  {
   "cell_type": "code",
   "execution_count": 58,
   "id": "14dea097",
   "metadata": {},
   "outputs": [
    {
     "data": {
      "text/plain": [
       "array(['7'], dtype=object)"
      ]
     },
     "execution_count": 58,
     "metadata": {},
     "output_type": "execute_result"
    }
   ],
   "source": [
    "#tahmin sonucu\n",
    "logisticRegr.predict(test_img[650].reshape(1,-1))"
   ]
  },
  {
   "cell_type": "markdown",
   "id": "e4d148ab",
   "metadata": {},
   "source": [
    "# Accuracy (Doğruluk) Ölçümü"
   ]
  },
  {
   "cell_type": "code",
   "execution_count": 54,
   "id": "a4e71370",
   "metadata": {},
   "outputs": [
    {
     "data": {
      "text/plain": [
       "0.9183"
      ]
     },
     "execution_count": 54,
     "metadata": {},
     "output_type": "execute_result"
    }
   ],
   "source": [
    "logisticRegr.score(test_img, test_lbl)"
   ]
  }
 ],
 "metadata": {
  "kernelspec": {
   "display_name": "Python 3 (ipykernel)",
   "language": "python",
   "name": "python3"
  },
  "language_info": {
   "codemirror_mode": {
    "name": "ipython",
    "version": 3
   },
   "file_extension": ".py",
   "mimetype": "text/x-python",
   "name": "python",
   "nbconvert_exporter": "python",
   "pygments_lexer": "ipython3",
   "version": "3.9.13"
  }
 },
 "nbformat": 4,
 "nbformat_minor": 5
}
